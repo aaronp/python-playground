{
 "cells": [
  {
   "cell_type": "code",
   "execution_count": 42,
   "id": "5ccbd93d-ecba-48cd-a45f-8e0a3a069c04",
   "metadata": {},
   "outputs": [
    {
     "name": "stdout",
     "output_type": "stream",
     "text": [
      "Requirement already satisfied: pandas in /usr/local/lib/python3.11/site-packages (2.1.1)\n",
      "Requirement already satisfied: pyodbc in /usr/local/lib/python3.11/site-packages (5.0.1)\n",
      "Requirement already satisfied: sqlalchemy in /usr/local/lib/python3.11/site-packages (2.0.22)\n",
      "Requirement already satisfied: numpy>=1.23.2 in /usr/local/lib/python3.11/site-packages (from pandas) (1.26.0)\n",
      "Requirement already satisfied: python-dateutil>=2.8.2 in /usr/local/lib/python3.11/site-packages (from pandas) (2.8.2)\n",
      "Requirement already satisfied: pytz>=2020.1 in /usr/local/lib/python3.11/site-packages (from pandas) (2023.3.post1)\n",
      "Requirement already satisfied: tzdata>=2022.1 in /usr/local/lib/python3.11/site-packages (from pandas) (2023.3)\n",
      "Requirement already satisfied: typing-extensions>=4.2.0 in /usr/local/lib/python3.11/site-packages (from sqlalchemy) (4.8.0)\n",
      "Requirement already satisfied: greenlet!=0.4.17 in /usr/local/lib/python3.11/site-packages (from sqlalchemy) (3.0.0)\n",
      "Requirement already satisfied: six>=1.5 in /usr/local/lib/python3.11/site-packages (from python-dateutil>=2.8.2->pandas) (1.16.0)\n"
     ]
    }
   ],
   "source": [
    "!pip install pandas pyodbc sqlalchemy"
   ]
  },
  {
   "cell_type": "code",
   "execution_count": 27,
   "id": "957ca1ba-a138-427c-8503-bafdbe715c09",
   "metadata": {},
   "outputs": [],
   "source": [
    "import pandas as pd\n",
    "import pyodbc\n",
    "\n",
    "all_drivers = pyodbc.drivers()\n",
    "driver = all_drivers[-1]\n",
    "# SQL Server connection parameters\n",
    "server = '192.168.1.7,1433'\n",
    "database = 'tempdb'\n",
    "username = 'SA'\n",
    "password = 'Passw0rd'\n",
    "driver = '{' + driver + '}'\n"
   ]
  },
  {
   "cell_type": "code",
   "execution_count": 25,
   "id": "d6db39a9-5bf8-4f75-97b0-b767c8181d4f",
   "metadata": {},
   "outputs": [
    {
     "name": "stdout",
     "output_type": "stream",
     "text": [
      "Requirement already satisfied: sqlalchemy in /usr/local/lib/python3.11/site-packages (2.0.22)\n",
      "Requirement already satisfied: typing-extensions>=4.2.0 in /usr/local/lib/python3.11/site-packages (from sqlalchemy) (4.8.0)\n",
      "Requirement already satisfied: greenlet!=0.4.17 in /usr/local/lib/python3.11/site-packages (from sqlalchemy) (3.0.0)\n"
     ]
    }
   ],
   "source": [
    "!pip install sqlalchemy"
   ]
  },
  {
   "cell_type": "code",
   "execution_count": 39,
   "id": "8bc70cc4-3c21-41e4-801e-440115839f20",
   "metadata": {},
   "outputs": [],
   "source": [
    "import pandas as pd\n",
    "# Sample DataFrame\n",
    "data = {'Name': ['Alice', 'Bob', 'Charlie'],\n",
    "        'Age': [25, 30, 35]}\n",
    "\n",
    "df = pd.DataFrame(data)\n"
   ]
  },
  {
   "cell_type": "code",
   "execution_count": 43,
   "id": "03a69b86-f4a3-46d1-9b5d-1c711afe17ba",
   "metadata": {},
   "outputs": [
    {
     "name": "stdout",
     "output_type": "stream",
     "text": [
      "using driver {ODBC Driver 18 for SQL Server}\n"
     ]
    }
   ],
   "source": [
    "import pandas as pd\n",
    "from sqlalchemy import create_engine\n",
    "\n",
    "print(f'using driver {driver}')\n",
    "constring = f\"mssql+pyodbc://{username}:{password}@{server}/{database}?driver=ODBC+Driver+18+for+SQL+Server&TrustServerCertificate=yes\"\n",
    "\n"
   ]
  },
  {
   "cell_type": "code",
   "execution_count": 41,
   "id": "a8588470-0df8-475c-89a5-5a162402a7ac",
   "metadata": {},
   "outputs": [
    {
     "name": "stdout",
     "output_type": "stream",
     "text": [
      "using driver {ODBC Driver 18 for SQL Server}\n",
      "Alchemy SQL connection ok!\n",
      "Saved data frame\n"
     ]
    }
   ],
   "source": [
    "import pandas as pd\n",
    "from sqlalchemy import create_engine\n",
    "\n",
    "engine = create_engine(constring)\n",
    "\n",
    "try:\n",
    "        \n",
    "    # Example: Creating a table (you may have an existing table)\n",
    "    with engine.connect() as connection:\n",
    "        print(\"Alchemy SQL connection ok!\")\n",
    "    \n",
    "    # Save DataFrame to the database\n",
    "    df.to_sql(name='sampletable', con=engine, if_exists='replace', index=False)\n",
    "    \n",
    "    print(\"Saved data frame\")\n",
    "    df\n",
    "finally:\n",
    "    # Close the connection\n",
    "    engine.dispose()\n"
   ]
  },
  {
   "cell_type": "code",
   "execution_count": 45,
   "id": "be908b4f-e398-42ea-94e7-20550dd53b40",
   "metadata": {},
   "outputs": [
    {
     "name": "stdout",
     "output_type": "stream",
     "text": [
      "      Name  Age\n",
      "0    Alice   25\n",
      "1      Bob   30\n",
      "2  Charlie   35\n"
     ]
    }
   ],
   "source": [
    "import pandas as pd\n",
    "from sqlalchemy import create_engine\n",
    "\n",
    "engine = create_engine(constring)\n",
    "\n",
    "try:\n",
    "    df = pd.read_sql(\"SELECT * FROM SampleTable\", con=engine)\n",
    "    print(df)\n",
    "finally:\n",
    "    engine.dispose()\n"
   ]
  }
 ],
 "metadata": {
  "kernelspec": {
   "display_name": "Python 3 (ipykernel)",
   "language": "python",
   "name": "python3"
  },
  "language_info": {
   "codemirror_mode": {
    "name": "ipython",
    "version": 3
   },
   "file_extension": ".py",
   "mimetype": "text/x-python",
   "name": "python",
   "nbconvert_exporter": "python",
   "pygments_lexer": "ipython3",
   "version": "3.11.6"
  }
 },
 "nbformat": 4,
 "nbformat_minor": 5
}
