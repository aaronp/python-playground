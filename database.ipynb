{
 "cells": [
  {
   "cell_type": "code",
   "execution_count": 3,
   "id": "14107885-c49f-4d65-b245-3db690c5e5ec",
   "metadata": {},
   "outputs": [
    {
     "name": "stdout",
     "output_type": "stream",
     "text": [
      "Requirement already satisfied: pandas in /usr/local/lib/python3.11/site-packages (2.1.1)\n",
      "\n",
      "\n",
      "Collecting pyodbc\n",
      "\n",
      "\n",
      "  Obtaining dependency information for pyodbc from https://files.pythonhosted.org/packages/15/3f/3aabdd379ed3085008005d698cbd9731f248720eb7e82febbbf1cbcfff0c/pyodbc-5.0.1-cp311-cp311-macosx_10_9_x86_64.whl.metadata\n",
      "\n",
      "\n",
      "  Downloading pyodbc-5.0.1-cp311-cp311-macosx_10_9_x86_64.whl.metadata (2.7 kB)\n",
      "\n",
      "\n",
      "Requirement already satisfied: numpy>=1.23.2 in /usr/local/lib/python3.11/site-packages (from pandas) (1.26.0)\n",
      "\n",
      "\n",
      "Requirement already satisfied: python-dateutil>=2.8.2 in /usr/local/lib/python3.11/site-packages (from pandas) (2.8.2)\n",
      "\n",
      "\n",
      "Requirement already satisfied: pytz>=2020.1 in /usr/local/lib/python3.11/site-packages (from pandas) (2023.3.post1)\n",
      "\n",
      "\n",
      "Requirement already satisfied: tzdata>=2022.1 in /usr/local/lib/python3.11/site-packages (from pandas) (2023.3)\n",
      "\n",
      "\n",
      "Requirement already satisfied: six>=1.5 in /usr/local/lib/python3.11/site-packages (from python-dateutil>=2.8.2->pandas) (1.16.0)\n",
      "\n",
      "\n",
      "Downloading pyodbc-5.0.1-cp311-cp311-macosx_10_9_x86_64.whl (72 kB)\n",
      "\n",
      "\n",
      "   ━━━━━━━━━━━━━━━━━━━━━━━━━━━━━━━━━━━━━━━━ 72.2/72.2 kB 1.7 MB/s eta 0:00:00\n",
      "\n",
      "\n",
      "\n",
      "\n",
      "\n",
      "Installing collected packages: pyodbc\n",
      "\n",
      "\n",
      "Successfully installed pyodbc-5.0.1\n",
      "\n",
      "\n"
     ]
    }
   ],
   "source": [
    "!pip install pandas pyodbc\n",
    "\n"
   ]
  },
  {
   "cell_type": "code",
   "execution_count": null,
   "id": "0acade14-0ab8-47dd-b7b4-2316e8127e27",
   "metadata": {},
   "outputs": [
    {
     "data": {
      "text/plain": [
       "Intitializing Scala interpreter ..."
      ]
     },
     "metadata": {},
     "output_type": "display_data"
    }
   ],
   "source": [
    "import pandas as pd\n",
    "import pyodbc\n",
    "\n",
    "# Create a Pandas DataFrame (replace this with your actual DataFrame)\n",
    "data = {\n",
    "    'Name': ['John', 'Jane', 'Bob'],\n",
    "    'Age': [25, 30, 22],\n",
    "    'City': ['New York', 'San Francisco', 'Seattle']\n",
    "}\n",
    "df = pd.DataFrame(data)\n",
    "\n",
    "# SQL Server connection parameters\n",
    "server = 'localhost'\n",
    "database = 'master'\n",
    "username = 'sa'\n",
    "password = 'Passw0rd'\n",
    "driver = '{ODBC Driver 17 for SQL Server}'  # Use the appropriate driver\n",
    "\n",
    "# Create a connection string\n",
    "connection_string = f'DRIVER={driver};SERVER={server};DATABASE={database};UID={username};PWD={password}'\n",
    "\n",
    "# Establish a connection\n",
    "connection = pyodbc.connect(connection_string)\n",
    "\n",
    "# Save DataFrame to SQL Server\n",
    "table_name = 'your_table_name'\n",
    "df.to_sql(table_name, connection, index=False, if_exists='replace')\n",
    "\n",
    "# Close the connection\n",
    "connection.close()\n"
   ]
  },
  {
   "cell_type": "code",
   "execution_count": null,
   "id": "13db5c83-1f50-4688-acdf-a5d11994bc15",
   "metadata": {},
   "outputs": [],
   "source": []
  }
 ],
 "metadata": {
  "kernelspec": {
   "display_name": "spylon-kernel",
   "language": "scala",
   "name": "spylon-kernel"
  },
  "language_info": {
   "codemirror_mode": "text/x-scala",
   "file_extension": ".scala",
   "help_links": [
    {
     "text": "MetaKernel Magics",
     "url": "https://metakernel.readthedocs.io/en/latest/source/README.html"
    }
   ],
   "mimetype": "text/x-scala",
   "name": "scala",
   "pygments_lexer": "scala",
   "version": "0.4.1"
  }
 },
 "nbformat": 4,
 "nbformat_minor": 5
}
